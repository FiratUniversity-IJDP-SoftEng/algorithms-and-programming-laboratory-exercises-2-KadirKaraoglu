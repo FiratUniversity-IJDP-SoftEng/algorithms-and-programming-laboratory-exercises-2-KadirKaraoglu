{
 "cells": [
  {
   "cell_type": "markdown",
   "metadata": {
    "id": "ytbzyl3rnDRY"
   },
   "source": [
    "# Python Turtle Exercises\n",
    "\n",
    "This assignment aims to improve your algorithmic skills by drawing various geometric patterns using the Python Turtle library.  \n",
    "Each exercise includes a description and a code cell for your solutions.\n",
    "\n",
    "# Exercise 1: Drawing a Star\n",
    "## Description:\n",
    "Design an algorithm to draw a five-pointed star. Calculate the angle and line length correctly."
   ]
  },
  {
   "cell_type": "code",
   "execution_count": 2,
   "metadata": {
    "id": "3uUSg4xJnUAw"
   },
   "outputs": [],
   "source": [
    "import turtle\n",
    "\n",
    "wn = turtle.Screen()\n",
    "tess = turtle.Turtle()\n",
    "tess.pensize(5)\n",
    "tess.right(36)\n",
    "for i in range(5):\n",
    "  tess.forward(200)\n",
    "  tess.left(144)\n",
    "\n",
    "wn.mainloop()\n"
   ]
  },
  {
   "cell_type": "markdown",
   "metadata": {
    "id": "tGUI2TbgnZYu"
   },
   "source": [
    "# Exercise 2: Drawing a Spiral Square\n",
    "## Description:\n",
    "Design an algorithm to draw a spiral square with increasing side lengths. Consider how to change the turtle's turning angle and movement distance after each square."
   ]
  },
  {
   "cell_type": "code",
   "execution_count": null,
   "metadata": {},
   "outputs": [],
   "source": [
    "import turtle\n",
    "\n",
    "wn = turtle.Screen()\n",
    "tess = turtle.Turtle()\n",
    "tess.pensize(5)\n",
    "x = 20\n",
    "for i in range(15):\n",
    "  tess.forward(100 + x*i)\n",
    "  tess.left(90)\n",
    "\n",
    "wn.mainloop()"
   ]
  },
  {
   "cell_type": "markdown",
   "metadata": {
    "id": "9u3aYlazngbx"
   },
   "source": [
    "# Exercise 3: Drawing Nested Polygons\n",
    "## Description:\n",
    "Design an algorithm to draw nested polygons with the same center and number of sides. Consider how to adjust the size of each polygon and position the turtle while drawing."
   ]
  },
  {
   "cell_type": "code",
   "execution_count": 1,
   "metadata": {
    "id": "GvJ5VlvJnoDz"
   },
   "outputs": [],
   "source": [
    "import turtle\n",
    "\n",
    "wn = turtle.Screen()\n",
    "tess = turtle.Turtle()\n",
    "tess.pensize(5)\n",
    "z = 300\n",
    "x = 80\n",
    "for i in range(4):\n",
    "  tess.penup()\n",
    "  tess.goto(-z / 2, z / 2)\n",
    "  tess.pendown()\n",
    "  for i in range(4):\n",
    "    tess.forward(z)\n",
    "    tess.right(90)\n",
    "\n",
    "  z = z - x\n",
    "wn.mainloop()\n"
   ]
  },
  {
   "cell_type": "markdown",
   "metadata": {
    "id": "w4S_F7XJnpYI"
   },
   "source": [
    "# Exercise 4: Drawing a Colorful Spiral\n",
    "## Description:\n",
    "Design an algorithm to draw a spiral using different colors. Consider how to change the color at each step and create the spiral shape."
   ]
  },
  {
   "cell_type": "code",
   "execution_count": null,
   "metadata": {
    "id": "e4KCcVxpnuUn"
   },
   "outputs": [],
   "source": [
    "import turtle\n",
    "\n",
    "wn = turtle.Screen()\n",
    "tess = turtle.Turtle()\n",
    "tess.pensize(5)\n",
    "lenth = 5\n",
    "colors = [\"red\", \"blue\", \"green\", \"yellow\", \"purple\", \"orange\", \"pink\"]\n",
    "for i in range(100):\n",
    "  tess.pencolor(colors[i%7])\n",
    "  tess.forward(lenth)\n",
    "  tess.left(20)\n",
    "  lenth = lenth + 2\n",
    "\n",
    "wn.mainloop()\n"
   ]
  },
  {
   "cell_type": "markdown",
   "metadata": {
    "id": "U4JZEptVn74m"
   },
   "source": [
    "# Exercise 5: Drawing a Random Pattern\n",
    "## Description:\n",
    "Design an algorithm to create an interesting pattern by randomly changing the turtle's movements and properties (color, thickness, etc.). Think about how to use randomness and vary different parameters."
   ]
  },
  {
   "cell_type": "code",
   "execution_count": null,
   "metadata": {},
   "outputs": [],
   "source": [
    "import turtle\n",
    "import random\n",
    "wn = turtle.Screen()\n",
    "wn.bgcolor(\"black\")\n",
    "tess = turtle.Turtle()\n",
    "lenth = 5\n",
    "tess.pensize(3)\n",
    "tess.right(90)\n",
    "tess.goto(-200, -30)\n",
    "colors = [\"red\", \"blue\", \"green\", \"yellow\", \"purple\", \"orange\", \"pink\"]\n",
    "for i in range(10):\n",
    "\n",
    "  for j in range(10):\n",
    "    tess.pencolor(random.choice(colors))\n",
    "    tess.forward(lenth)\n",
    "    tess.left(20)\n",
    "    tess.pensize(10)\n",
    "  tess.pensize(3)\n",
    "  for j in range(10):\n",
    "    tess.pencolor(colors[i % 7])\n",
    "    tess.forward(lenth)\n",
    "    tess.right(20)\n",
    "tess.right(180)\n",
    "for x in range(10):\n",
    "  for j in range(10):\n",
    "    tess.pencolor(random.choice(colors))\n",
    "    tess.forward(lenth)\n",
    "    tess.left(20)\n",
    "    tess.pensize(10)\n",
    "  tess.pensize(3)\n",
    "  for j in range(10):\n",
    "    tess.pencolor(colors[x % 7])\n",
    "    tess.forward(lenth)\n",
    "    tess.right(20)\n",
    "wn.mainloop()\n"
   ]
  }
 ],
 "metadata": {
  "accelerator": "GPU",
  "colab": {
   "gpuType": "T4",
   "provenance": []
  },
  "kernelspec": {
   "display_name": "Python 3 (ipykernel)",
   "language": "python",
   "name": "python3"
  },
  "language_info": {
   "codemirror_mode": {
    "name": "ipython",
    "version": 3
   },
   "file_extension": ".py",
   "mimetype": "text/x-python",
   "name": "python",
   "nbconvert_exporter": "python",
   "pygments_lexer": "ipython3",
   "version": "3.12.9"
  }
 },
 "nbformat": 4,
 "nbformat_minor": 4
}
